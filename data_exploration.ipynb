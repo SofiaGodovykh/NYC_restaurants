{
 "cells": [
  {
   "cell_type": "markdown",
   "metadata": {
    "collapsed": true
   },
   "source": [
    "# Restaurants at New York City newly build houses."
   ]
  },
  {
   "cell_type": "markdown",
   "metadata": {},
   "source": [
    "## Contents\n",
    "- Introduction\n",
    "- Data cleaning\n",
    "- Data exploration\n",
    "- Hypothesis testing\n",
    "- Visualization\n",
    "\n",
    "The dataset contains data about permits for construction and demolition activities in the City of New York. These permatis are issued for maintenance, plumbing, demolition and other types of work. I will use the information about buildings' age to decide if there is a link between the age and a quality of a restaurant. For this project I will use another [dataset](https://data.cityofnewyork.us/Health/DOHMH-New-York-City-Restaurant-Inspection-Results/43nn-pn8j), which provides information about healt inspections at New York restaurants.\n",
    "\n",
    "The datasets are large enough to be stored in a database, so I copied it to PostreSQL.\n",
    "The permit dataset has 60 columns, but I will use only addresses, permit types and permit dates. \n",
    "I will start from cleaning the data. While addresses and streets can be difficult to validate, I can easily do this with dates, zip codes and borough."
   ]
  },
  {
   "cell_type": "code",
   "execution_count": 7,
   "metadata": {},
   "outputs": [],
   "source": [
    "from sqlalchemy import create_engine\n",
    "import zipcodes"
   ]
  },
  {
   "cell_type": "code",
   "execution_count": 128,
   "metadata": {},
   "outputs": [
    {
     "name": "stdout",
     "output_type": "stream",
     "text": [
      "('BRONX',)\n('MANHATTAN',)\n('BROOKLYN',)\n('QUEENS',)\n('STATEN ISLAND',)\n"
     ]
    }
   ],
   "source": [
    "engine = create_engine('postgresql://sofiagodovykh:@localhost/DS')\n",
    "connection = engine.connect()\n",
    "borough = connection.execute('SELECT DISTINCT(borough) FROM nyc;')\n",
    "for item in borough:\n",
    "    print(item)"
   ]
  },
  {
   "cell_type": "markdown",
   "metadata": {},
   "source": [
    "Bogough column is fine. Then I will check zipcodes, using zipcodes library."
   ]
  },
  {
   "cell_type": "code",
   "execution_count": 57,
   "metadata": {
    "collapsed": false
   },
   "outputs": [
    {
     "name": "stdout",
     "output_type": "stream",
     "text": [
      "{'RIDGEWOOD NY', 'CORONA NY', 'BRONX NY', 'BAYSIDE NY', 'MASPETH NY', 'LITTLE NECK NY', 'CAMBRIA HEIGHTS NY', 'FOREST HILLS NY', 'ASTORIA NY', 'ELMHURST NY', 'COLLEGE POINT NY', 'SUNNYSIDE NY', 'SPRINGFIELD GARDENS NY', 'JAMAICA NY', 'ROSEDALE NY', 'RICHMOND HILL NY', 'EAST ELMHURST NY', 'BLOOMING GROVE NY', 'FLUSHING NY', 'HOWARD BEACH NY', 'GLEN OAKS NY', 'OZONE PARK NY', 'HOLLIS NY', 'REGO PARK NY', 'KEW GARDENS NY', 'NEW HYDE PARK NY', 'SOUTH RICHMOND HILL NY', 'SOUTH OZONE PARK NY', 'WOODSIDE NY', 'BROOKLYN NY', 'MIDDLE VILLAGE NY', 'CHESTER NY', 'QUEENS VILLAGE NY', 'OAKLAND GARDENS NY', 'FAR ROCKAWAY NY', 'JACKSON HEIGHTS NY', 'WHITESTONE NY', 'SAINT ALBANS NY', 'BREEZY POINT NY', 'ARVERNE NY', 'FLORAL PARK NY', 'WOODHAVEN NY', 'LONG ISLAND CITY NY', 'ROCKAWAY PARK NY', 'FRESH MEADOWS NY', 'BELLEROSE NY', 'NEW YORK NY', 'STATEN ISLAND NY'}\n[None, 10000, 4452, 10487, 0, 11376]\n"
     ]
    }
   ],
   "source": [
    "addresses = set()\n",
    "problems = []\n",
    "sql_zips = connection.execute('SELECT DISTINCT(zipcode) FROM nyc;')\n",
    "for zip in sql_zips:\n",
    "    try:\n",
    "        temp = zipcodes.matching(str(zip[0]))\n",
    "        addresses.add(temp[0]['city'] + ' ' + temp[0]['state'])\n",
    "    except:\n",
    "        problems.append(zip[0])\n",
    "    \n",
    "print(addresses)\n",
    "print(problems)"
   ]
  },
  {
   "cell_type": "markdown",
   "metadata": {},
   "source": [
    "Most of the zipcodes are in New York metropolitan area. Let's see how many of them a erroneous."
   ]
  },
  {
   "cell_type": "markdown",
   "metadata": {},
   "source": [
    ""
   ]
  },
  {
   "cell_type": "code",
   "execution_count": 73,
   "metadata": {},
   "outputs": [
    {
     "data": {
      "text/plain": [
       "246"
      ]
     },
     "execution_count": 73,
     "metadata": {},
     "output_type": "execute_result"
    }
   ],
   "source": [
    "connection.execute('SELECT COUNT(zipcode) FROM nyc WHERE zipcode IN (NULL, 10000, 4452, 10487, 0, 11376);').scalar()"
   ]
  },
  {
   "cell_type": "markdown",
   "metadata": {},
   "source": [
    "There is only 246 wrong zipcodes. I will delete them."
   ]
  },
  {
   "cell_type": "markdown",
   "metadata": {},
   "source": [
    ""
   ]
  },
  {
   "cell_type": "code",
   "execution_count": 74,
   "metadata": {},
   "outputs": [
    {
     "data": {
      "text/plain": [
       "<sqlalchemy.engine.result.ResultProxy at 0x11528ee80>"
      ]
     },
     "execution_count": 74,
     "metadata": {},
     "output_type": "execute_result"
    }
   ],
   "source": [
    "connection.execute('DELETE FROM nyc WHERE zipcode IN (NULL, 10000, 4452, 10487, 0, 11376);')"
   ]
  },
  {
   "cell_type": "markdown",
   "metadata": {},
   "source": [
    "Then I will take care of dates. I am mostly interested in expirationdate, since it is an indicator that building is finally finished. I have ran a query to find the earliest and the latest dates of permits for building new houses."
   ]
  },
  {
   "cell_type": "code",
   "execution_count": 126,
   "metadata": {},
   "outputs": [
    {
     "name": "stdout",
     "output_type": "stream",
     "text": [
      "2020-04-01\n"
     ]
    },
    {
     "name": "stdout",
     "output_type": "stream",
     "text": [
      "1990-02-01\n"
     ]
    }
   ],
   "source": [
    "print(connection.execute('SELECT DISTINCT(expirationdate) FROM nyc WHERE expirationdate = '\n",
    "                   '(SELECT MAX(expirationdate) from nyc WHERE permittype = \\'NB\\');').scalar())\n",
    "print(connection.execute('SELECT DISTINCT(expirationdate) FROM nyc WHERE expirationdate = '\n",
    "                   '(SELECT MIN(expirationdate) from nyc WHERE permittype = \\'NB\\');').scalar())"
   ]
  },
  {
   "cell_type": "markdown",
   "metadata": {},
   "source": [
    ""
   ]
  },
  {
   "cell_type": "markdown",
   "metadata": {},
   "source": [
    "This data looks valid. But there is a tricky part: permits can be reissued, so it is possible that building has multiple permits. For my purpose, I need to use only the final one."
   ]
  },
  {
   "cell_type": "code",
   "execution_count": 129,
   "metadata": {},
   "outputs": [
    {
     "data": {
      "text/plain": [
       "86141"
      ]
     },
     "execution_count": 129,
     "metadata": {},
     "output_type": "execute_result"
    }
   ],
   "source": [
    "connection.execute('SELECT COUNT(DISTINCT(CONCAT(borough, zipcode, house, streetname))) FROM nyc WHERE permittype = \\'NB\\';').scalar()"
   ]
  },
  {
   "cell_type": "markdown",
   "metadata": {},
   "source": [
    "So, the dataset stores an information about 86141 houses which were built since 1990. I am very satisfied with this dataset. The next step is to validate another one."
   ]
  },
  {
   "cell_type": "code",
   "execution_count": null,
   "metadata": {},
   "outputs": [],
   "source": [
    ""
   ]
  }
 ],
 "metadata": {
  "kernelspec": {
   "display_name": "Python 2",
   "language": "python",
   "name": "python2"
  },
  "language_info": {
   "codemirror_mode": {
    "name": "ipython",
    "version": 2.0
   },
   "file_extension": ".py",
   "mimetype": "text/x-python",
   "name": "python",
   "nbconvert_exporter": "python",
   "pygments_lexer": "ipython2",
   "version": "2.7.6"
  }
 },
 "nbformat": 4,
 "nbformat_minor": 0
}