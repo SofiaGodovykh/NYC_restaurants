{
 "cells": [
  {
   "cell_type": "markdown",
   "metadata": {
    "collapsed": true
   },
   "source": [
    "# Restaurants at New York City newly build houses."
   ]
  },
  {
   "cell_type": "markdown",
   "metadata": {},
   "source": [
    "## Contents\n",
    "- Introduction\n",
    "- Data cleaning\n",
    "- Data exploration\n",
    "- Hypothesis testing\n",
    "- Visualization\n",
    "\n",
    "The dataset contains data about permits for construction and demolition activities in the City of New York. These permatis are issued for maintenance, plumbing, demolition and other types of work. I will use the information about buildings' age to decide if there is a link between the age and a quality of a restaurant. For this project I will use another [dataset](https://data.cityofnewyork.us/Health/DOHMH-New-York-City-Restaurant-Inspection-Results/43nn-pn8j), which provides information about healt inspections at New York restaurants.\n",
    "\n",
    "The datasets are large enough to be stored in a database, so I copied it to PostreSQL.\n",
    "The permit dataset has 60 columns, but I will use only addresses, permit types and permit dates. \n",
    "I will start from cleaning the data. While addresses and streets can be difficult to validate, I can easily do this with dates, zip codes and borough."
   ]
  },
  {
   "cell_type": "code",
   "execution_count": 181,
   "metadata": {},
   "outputs": [],
   "source": [
    "from sqlalchemy import create_engine\n",
    "import zipcodes\n",
    "from pandas import DataFrame"
   ]
  },
  {
   "cell_type": "code",
   "execution_count": 128,
   "metadata": {},
   "outputs": [
    {
     "name": "stdout",
     "output_type": "stream",
     "text": [
      "('BRONX',)\n('MANHATTAN',)\n('BROOKLYN',)\n('QUEENS',)\n('STATEN ISLAND',)\n"
     ]
    }
   ],
   "source": [
    "engine = create_engine('postgresql://sofiagodovykh:@localhost/DS')\n",
    "connection = engine.connect()\n",
    "borough = connection.execute('SELECT DISTINCT(borough) FROM nyc;')\n",
    "for item in borough:\n",
    "    print(item)"
   ]
  },
  {
   "cell_type": "markdown",
   "metadata": {},
   "source": [
    "Bogough column is fine. Then I will check zipcodes, using zipcodes library."
   ]
  },
  {
   "cell_type": "code",
   "execution_count": 57,
   "metadata": {
    "collapsed": false
   },
   "outputs": [
    {
     "name": "stdout",
     "output_type": "stream",
     "text": [
      "{'RIDGEWOOD NY', 'CORONA NY', 'BRONX NY', 'BAYSIDE NY', 'MASPETH NY', 'LITTLE NECK NY', 'CAMBRIA HEIGHTS NY', 'FOREST HILLS NY', 'ASTORIA NY', 'ELMHURST NY', 'COLLEGE POINT NY', 'SUNNYSIDE NY', 'SPRINGFIELD GARDENS NY', 'JAMAICA NY', 'ROSEDALE NY', 'RICHMOND HILL NY', 'EAST ELMHURST NY', 'BLOOMING GROVE NY', 'FLUSHING NY', 'HOWARD BEACH NY', 'GLEN OAKS NY', 'OZONE PARK NY', 'HOLLIS NY', 'REGO PARK NY', 'KEW GARDENS NY', 'NEW HYDE PARK NY', 'SOUTH RICHMOND HILL NY', 'SOUTH OZONE PARK NY', 'WOODSIDE NY', 'BROOKLYN NY', 'MIDDLE VILLAGE NY', 'CHESTER NY', 'QUEENS VILLAGE NY', 'OAKLAND GARDENS NY', 'FAR ROCKAWAY NY', 'JACKSON HEIGHTS NY', 'WHITESTONE NY', 'SAINT ALBANS NY', 'BREEZY POINT NY', 'ARVERNE NY', 'FLORAL PARK NY', 'WOODHAVEN NY', 'LONG ISLAND CITY NY', 'ROCKAWAY PARK NY', 'FRESH MEADOWS NY', 'BELLEROSE NY', 'NEW YORK NY', 'STATEN ISLAND NY'}\n[None, 10000, 4452, 10487, 0, 11376]\n"
     ]
    }
   ],
   "source": [
    "addresses = set()\n",
    "problems = []\n",
    "sql_zips = connection.execute('SELECT DISTINCT(zipcode) FROM nyc;')\n",
    "for zip in sql_zips:\n",
    "    try:\n",
    "        temp = zipcodes.matching(str(zip[0]))\n",
    "        addresses.add(temp[0]['city'] + ' ' + temp[0]['state'])\n",
    "    except:\n",
    "        problems.append(zip[0])\n",
    "    \n",
    "print(addresses)\n",
    "print(problems)"
   ]
  },
  {
   "cell_type": "markdown",
   "metadata": {},
   "source": [
    "Most of the zipcodes are in New York metropolitan area. Let's see how many of them a erroneous."
   ]
  },
  {
   "cell_type": "markdown",
   "metadata": {},
   "source": [
    ""
   ]
  },
  {
   "cell_type": "code",
   "execution_count": 73,
   "metadata": {},
   "outputs": [
    {
     "data": {
      "text/plain": [
       "246"
      ]
     },
     "execution_count": 73,
     "metadata": {},
     "output_type": "execute_result"
    }
   ],
   "source": [
    "connection.execute('SELECT COUNT(zipcode) FROM nyc WHERE zipcode IN (NULL, 10000, 4452, 10487, 0, 11376);').scalar()"
   ]
  },
  {
   "cell_type": "markdown",
   "metadata": {},
   "source": [
    "There is only 246 wrong zipcodes. I will delete them."
   ]
  },
  {
   "cell_type": "markdown",
   "metadata": {},
   "source": [
    ""
   ]
  },
  {
   "cell_type": "code",
   "execution_count": 74,
   "metadata": {},
   "outputs": [
    {
     "data": {
      "text/plain": [
       "<sqlalchemy.engine.result.ResultProxy at 0x11528ee80>"
      ]
     },
     "execution_count": 74,
     "metadata": {},
     "output_type": "execute_result"
    }
   ],
   "source": [
    "connection.execute('DELETE FROM nyc WHERE zipcode IN (NULL, 10000, 4452, 10487, 0, 11376);')"
   ]
  },
  {
   "cell_type": "markdown",
   "metadata": {},
   "source": [
    "Then I will take care of dates. I am mostly interested in expirationdate, since it is an indicator that building is finally finished. I have ran a query to find the earliest and the latest dates of permits for building new houses."
   ]
  },
  {
   "cell_type": "code",
   "execution_count": 126,
   "metadata": {},
   "outputs": [
    {
     "name": "stdout",
     "output_type": "stream",
     "text": [
      "2020-04-01\n"
     ]
    },
    {
     "name": "stdout",
     "output_type": "stream",
     "text": [
      "1990-02-01\n"
     ]
    }
   ],
   "source": [
    "print(connection.execute('SELECT DISTINCT(expirationdate) FROM nyc WHERE expirationdate = '\n",
    "                   '(SELECT MAX(expirationdate) from nyc WHERE permittype = \\'NB\\');').scalar())\n",
    "print(connection.execute('SELECT DISTINCT(expirationdate) FROM nyc WHERE expirationdate = '\n",
    "                   '(SELECT MIN(expirationdate) from nyc WHERE permittype = \\'NB\\');').scalar())"
   ]
  },
  {
   "cell_type": "markdown",
   "metadata": {},
   "source": [
    ""
   ]
  },
  {
   "cell_type": "markdown",
   "metadata": {},
   "source": [
    "This data looks valid. But there is a tricky part: permits can be reissued, so it is possible that building has multiple permits. For my purpose, I need to use only the final one."
   ]
  },
  {
   "cell_type": "code",
   "execution_count": 129,
   "metadata": {},
   "outputs": [
    {
     "data": {
      "text/plain": [
       "86141"
      ]
     },
     "execution_count": 129,
     "metadata": {},
     "output_type": "execute_result"
    }
   ],
   "source": [
    "connection.execute('SELECT COUNT(DISTINCT(CONCAT(borough, zipcode, house, streetname))) '\n",
    "                   'FROM nyc WHERE permittype = \\'NB\\';').scalar()"
   ]
  },
  {
   "cell_type": "markdown",
   "metadata": {},
   "source": [
    "So, the dataset stores an information about 86141 houses which were built since 1990. I am very satisfied with this dataset. The next step is to validate another one.\n",
    "\n",
    "For the health inspection dataset I will need to check data for borough, zipcode and inspection date (Inspection dates of 1/1/1900 mean an establishment has not yet had an inspection, therefore this data need to be removed)."
   ]
  },
  {
   "cell_type": "code",
   "execution_count": 131,
   "metadata": {},
   "outputs": [
    {
     "name": "stdout",
     "output_type": "stream",
     "text": [
      "('STATEN ISLAND',)\n('MANHATTAN',)\n('BRONX',)\n('Missing',)\n('BROOKLYN',)\n('QUEENS',)\n"
     ]
    }
   ],
   "source": [
    "borough = connection.execute('SELECT DISTINCT(boro) FROM restaurants;')\n",
    "for item in borough:\n",
    "    print(item)"
   ]
  },
  {
   "cell_type": "markdown",
   "metadata": {},
   "source": [
    "Borough column is fine: some of the information is missed, but it is not critical, I have zipcodes."
   ]
  },
  {
   "cell_type": "code",
   "execution_count": 132,
   "metadata": {},
   "outputs": [
    {
     "name": "stdout",
     "output_type": "stream",
     "text": [
      "{'RIDGEWOOD NY', 'CORONA NY', 'BRONX NY', 'BAYSIDE NY', 'MASPETH NY', 'LITTLE NECK NY', 'CAMBRIA HEIGHTS NY', 'FOREST HILLS NY', 'ASTORIA NY', 'ELMHURST NY', 'COLLEGE POINT NY', 'SUNNYSIDE NY', 'SPRINGFIELD GARDENS NY', 'JAMAICA NY', 'ROSEDALE NY', 'RICHMOND HILL NY', 'EAST ELMHURST NY', 'FLUSHING NY', 'HOWARD BEACH NY', 'GLEN OAKS NY', 'OZONE PARK NY', 'HOLLIS NY', 'KEW GARDENS NY', 'SOUTH RICHMOND HILL NY', 'NEW HYDE PARK NY', 'REGO PARK NY', 'WOODSIDE NY', 'SOUTH OZONE PARK NY', 'BROOKLYN NY', 'MIDDLE VILLAGE NY', 'QUEENS VILLAGE NY', 'OAKLAND GARDENS NY', 'SCHENECTADY NY', 'FAR ROCKAWAY NY', 'JACKSON HEIGHTS NY', 'SAINT ALBANS NY', 'WHITESTONE NY', 'BREEZY POINT NY', 'ARVERNE NY', 'FLORAL PARK NY', 'WOODHAVEN NY', 'LONG ISLAND CITY NY', 'ROCKAWAY PARK NY', 'FRESH MEADOWS NY', 'BELLEROSE NY', 'NEW YORK NY', 'STATEN ISLAND NY'}\n[None, 'N/A', '10000']\n"
     ]
    }
   ],
   "source": [
    "addresses = set()\n",
    "problems = []\n",
    "sql_zips = connection.execute('SELECT DISTINCT(zipcode) FROM restaurants;')\n",
    "for zip in sql_zips:\n",
    "    try:\n",
    "        temp = zipcodes.matching(str(zip[0]))\n",
    "        addresses.add(temp[0]['city'] + ' ' + temp[0]['state'])\n",
    "    except:\n",
    "        problems.append(zip[0])\n",
    "    \n",
    "print(addresses)\n",
    "print(problems)"
   ]
  },
  {
   "cell_type": "markdown",
   "metadata": {},
   "source": [
    "I removed the wrong data."
   ]
  },
  {
   "cell_type": "code",
   "execution_count": 137,
   "metadata": {},
   "outputs": [
    {
     "data": {
      "text/plain": [
       "<sqlalchemy.engine.result.ResultProxy at 0x1152cd7b8>"
      ]
     },
     "execution_count": 137,
     "metadata": {},
     "output_type": "execute_result"
    }
   ],
   "source": [
    "connection.execute('DELETE FROM restaurants WHERE zipcode IN (\\'10000\\', \\'N/A\\', NULL);')"
   ]
  },
  {
   "cell_type": "markdown",
   "metadata": {},
   "source": [
    "According to dataset documentation, I need to delete some data from inspection_date column (Inspection dates of 1/1/1900 mean an establishment has not yet had an inspection)."
   ]
  },
  {
   "cell_type": "code",
   "execution_count": 143,
   "metadata": {},
   "outputs": [
    {
     "data": {
      "text/plain": [
       "<sqlalchemy.engine.result.ResultProxy at 0x1152cd278>"
      ]
     },
     "execution_count": 143,
     "metadata": {},
     "output_type": "execute_result"
    }
   ],
   "source": [
    "connection.execute('SELECT COUNT(*) FROM restaurants WHERE inspectiondate = \\'01/01/1900\\';').scalar()\n",
    "connection.execute('DELETE FROM restaurants WHERE inspectiondate = \\'01/01/1900\\';')"
   ]
  },
  {
   "cell_type": "markdown",
   "metadata": {},
   "source": [
    "Both datasets are cleaned, it is time to explore the data.\n",
    "I will gather some basic statistics and build plots for the most interesting data.\n",
    "\n",
    "How new buildings are distributed among New York boroughs?"
   ]
  },
  {
   "cell_type": "code",
   "execution_count": 198,
   "metadata": {
    "collapsed": true
   },
   "outputs": [
    {
     "ename": "ProgrammingError",
     "evalue": "(psycopg2.ProgrammingError) syntax error at or near \")\"\nLINE 1: SELECT borough, max(expirationdate)) FROM nyc WHERE permitty...\n                                           ^\n [SQL: \"SELECT borough, max(expirationdate)) FROM nyc WHERE permittype = 'NB' GROUP BY CONCAT(borough, zipcode, house, streetname) ORDER BY COUNT(*) DESC;\"] (Background on this error at: http://sqlalche.me/e/f405)",
     "traceback": [
      "\u001b[0;31m---------------------------------------------------------------------------\u001b[0m",
      "\u001b[0;31mProgrammingError\u001b[0m                          Traceback (most recent call last)",
      "\u001b[0;32m~/venv3/lib/python3.6/site-packages/sqlalchemy/engine/base.py\u001b[0m in \u001b[0;36m_execute_context\u001b[0;34m(self, dialect, constructor, statement, parameters, *args)\u001b[0m\n\u001b[1;32m   1192\u001b[0m                         \u001b[0mparameters\u001b[0m\u001b[0;34m,\u001b[0m\u001b[0;34m\u001b[0m\u001b[0m\n\u001b[0;32m-> 1193\u001b[0;31m                         context)\n\u001b[0m\u001b[1;32m   1194\u001b[0m         \u001b[0;32mexcept\u001b[0m \u001b[0mBaseException\u001b[0m \u001b[0;32mas\u001b[0m \u001b[0me\u001b[0m\u001b[0;34m:\u001b[0m\u001b[0;34m\u001b[0m\u001b[0m\n",
      "\u001b[0;32m~/venv3/lib/python3.6/site-packages/sqlalchemy/engine/default.py\u001b[0m in \u001b[0;36mdo_execute\u001b[0;34m(self, cursor, statement, parameters, context)\u001b[0m\n\u001b[1;32m    506\u001b[0m     \u001b[0;32mdef\u001b[0m \u001b[0mdo_execute\u001b[0m\u001b[0;34m(\u001b[0m\u001b[0mself\u001b[0m\u001b[0;34m,\u001b[0m \u001b[0mcursor\u001b[0m\u001b[0;34m,\u001b[0m \u001b[0mstatement\u001b[0m\u001b[0;34m,\u001b[0m \u001b[0mparameters\u001b[0m\u001b[0;34m,\u001b[0m \u001b[0mcontext\u001b[0m\u001b[0;34m=\u001b[0m\u001b[0;32mNone\u001b[0m\u001b[0;34m)\u001b[0m\u001b[0;34m:\u001b[0m\u001b[0;34m\u001b[0m\u001b[0m\n\u001b[0;32m--> 507\u001b[0;31m         \u001b[0mcursor\u001b[0m\u001b[0;34m.\u001b[0m\u001b[0mexecute\u001b[0m\u001b[0;34m(\u001b[0m\u001b[0mstatement\u001b[0m\u001b[0;34m,\u001b[0m \u001b[0mparameters\u001b[0m\u001b[0;34m)\u001b[0m\u001b[0;34m\u001b[0m\u001b[0m\n\u001b[0m\u001b[1;32m    508\u001b[0m \u001b[0;34m\u001b[0m\u001b[0m\n",
      "\u001b[0;31mProgrammingError\u001b[0m: syntax error at or near \")\"\nLINE 1: SELECT borough, max(expirationdate)) FROM nyc WHERE permitty...\n                                           ^\n",
      "\nThe above exception was the direct cause of the following exception:\n",
      "\u001b[0;31mProgrammingError\u001b[0m                          Traceback (most recent call last)",
      "\u001b[0;32m<ipython-input-198-b49362bb95aa>\u001b[0m in \u001b[0;36m<module>\u001b[0;34m\u001b[0m\n\u001b[0;32m----> 1\u001b[0;31m res = connection.execute('SELECT borough, max(expirationdate)) '\n\u001b[0m\u001b[1;32m      2\u001b[0m                          \u001b[0;34m'FROM nyc WHERE permittype = \\'NB\\' '\u001b[0m\u001b[0;34m\u001b[0m\u001b[0m\n\u001b[1;32m      3\u001b[0m                          \u001b[0;34m'GROUP BY CONCAT(borough, zipcode, house, streetname) '\u001b[0m\u001b[0;34m\u001b[0m\u001b[0m\n\u001b[1;32m      4\u001b[0m                          'ORDER BY COUNT(*) DESC;')\n\u001b[1;32m      5\u001b[0m \u001b[0;34m\u001b[0m\u001b[0m\n",
      "\u001b[0;32m~/venv3/lib/python3.6/site-packages/sqlalchemy/engine/base.py\u001b[0m in \u001b[0;36mexecute\u001b[0;34m(self, object, *multiparams, **params)\u001b[0m\n\u001b[1;32m    940\u001b[0m         \"\"\"\n\u001b[1;32m    941\u001b[0m         \u001b[0;32mif\u001b[0m \u001b[0misinstance\u001b[0m\u001b[0;34m(\u001b[0m\u001b[0mobject\u001b[0m\u001b[0;34m,\u001b[0m \u001b[0mutil\u001b[0m\u001b[0;34m.\u001b[0m\u001b[0mstring_types\u001b[0m\u001b[0;34m[\u001b[0m\u001b[0;36m0\u001b[0m\u001b[0;34m]\u001b[0m\u001b[0;34m)\u001b[0m\u001b[0;34m:\u001b[0m\u001b[0;34m\u001b[0m\u001b[0m\n\u001b[0;32m--> 942\u001b[0;31m             \u001b[0;32mreturn\u001b[0m \u001b[0mself\u001b[0m\u001b[0;34m.\u001b[0m\u001b[0m_execute_text\u001b[0m\u001b[0;34m(\u001b[0m\u001b[0mobject\u001b[0m\u001b[0;34m,\u001b[0m \u001b[0mmultiparams\u001b[0m\u001b[0;34m,\u001b[0m \u001b[0mparams\u001b[0m\u001b[0;34m)\u001b[0m\u001b[0;34m\u001b[0m\u001b[0m\n\u001b[0m\u001b[1;32m    943\u001b[0m         \u001b[0;32mtry\u001b[0m\u001b[0;34m:\u001b[0m\u001b[0;34m\u001b[0m\u001b[0m\n\u001b[1;32m    944\u001b[0m             \u001b[0mmeth\u001b[0m \u001b[0;34m=\u001b[0m \u001b[0mobject\u001b[0m\u001b[0;34m.\u001b[0m\u001b[0m_execute_on_connection\u001b[0m\u001b[0;34m\u001b[0m\u001b[0m\n",
      "\u001b[0;32m~/venv3/lib/python3.6/site-packages/sqlalchemy/engine/base.py\u001b[0m in \u001b[0;36m_execute_text\u001b[0;34m(self, statement, multiparams, params)\u001b[0m\n\u001b[1;32m   1102\u001b[0m             \u001b[0mstatement\u001b[0m\u001b[0;34m,\u001b[0m\u001b[0;34m\u001b[0m\u001b[0m\n\u001b[1;32m   1103\u001b[0m             \u001b[0mparameters\u001b[0m\u001b[0;34m,\u001b[0m\u001b[0;34m\u001b[0m\u001b[0m\n\u001b[0;32m-> 1104\u001b[0;31m             \u001b[0mstatement\u001b[0m\u001b[0;34m,\u001b[0m \u001b[0mparameters\u001b[0m\u001b[0;34m\u001b[0m\u001b[0m\n\u001b[0m\u001b[1;32m   1105\u001b[0m         )\n\u001b[1;32m   1106\u001b[0m         \u001b[0;32mif\u001b[0m \u001b[0mself\u001b[0m\u001b[0;34m.\u001b[0m\u001b[0m_has_events\u001b[0m \u001b[0;32mor\u001b[0m \u001b[0mself\u001b[0m\u001b[0;34m.\u001b[0m\u001b[0mengine\u001b[0m\u001b[0;34m.\u001b[0m\u001b[0m_has_events\u001b[0m\u001b[0;34m:\u001b[0m\u001b[0;34m\u001b[0m\u001b[0m\n",
      "\u001b[0;32m~/venv3/lib/python3.6/site-packages/sqlalchemy/engine/base.py\u001b[0m in \u001b[0;36m_execute_context\u001b[0;34m(self, dialect, constructor, statement, parameters, *args)\u001b[0m\n\u001b[1;32m   1198\u001b[0m                 \u001b[0mparameters\u001b[0m\u001b[0;34m,\u001b[0m\u001b[0;34m\u001b[0m\u001b[0m\n\u001b[1;32m   1199\u001b[0m                 \u001b[0mcursor\u001b[0m\u001b[0;34m,\u001b[0m\u001b[0;34m\u001b[0m\u001b[0m\n\u001b[0;32m-> 1200\u001b[0;31m                 context)\n\u001b[0m\u001b[1;32m   1201\u001b[0m \u001b[0;34m\u001b[0m\u001b[0m\n\u001b[1;32m   1202\u001b[0m         \u001b[0;32mif\u001b[0m \u001b[0mself\u001b[0m\u001b[0;34m.\u001b[0m\u001b[0m_has_events\u001b[0m \u001b[0;32mor\u001b[0m \u001b[0mself\u001b[0m\u001b[0;34m.\u001b[0m\u001b[0mengine\u001b[0m\u001b[0;34m.\u001b[0m\u001b[0m_has_events\u001b[0m\u001b[0;34m:\u001b[0m\u001b[0;34m\u001b[0m\u001b[0m\n",
      "\u001b[0;32m~/venv3/lib/python3.6/site-packages/sqlalchemy/engine/base.py\u001b[0m in \u001b[0;36m_handle_dbapi_exception\u001b[0;34m(self, e, statement, parameters, cursor, context)\u001b[0m\n\u001b[1;32m   1411\u001b[0m                 util.raise_from_cause(\n\u001b[1;32m   1412\u001b[0m                     \u001b[0msqlalchemy_exception\u001b[0m\u001b[0;34m,\u001b[0m\u001b[0;34m\u001b[0m\u001b[0m\n\u001b[0;32m-> 1413\u001b[0;31m                     \u001b[0mexc_info\u001b[0m\u001b[0;34m\u001b[0m\u001b[0m\n\u001b[0m\u001b[1;32m   1414\u001b[0m                 )\n\u001b[1;32m   1415\u001b[0m             \u001b[0;32melse\u001b[0m\u001b[0;34m:\u001b[0m\u001b[0;34m\u001b[0m\u001b[0m\n",
      "\u001b[0;32m~/venv3/lib/python3.6/site-packages/sqlalchemy/util/compat.py\u001b[0m in \u001b[0;36mraise_from_cause\u001b[0;34m(exception, exc_info)\u001b[0m\n\u001b[1;32m    201\u001b[0m     \u001b[0mexc_type\u001b[0m\u001b[0;34m,\u001b[0m \u001b[0mexc_value\u001b[0m\u001b[0;34m,\u001b[0m \u001b[0mexc_tb\u001b[0m \u001b[0;34m=\u001b[0m \u001b[0mexc_info\u001b[0m\u001b[0;34m\u001b[0m\u001b[0m\n\u001b[1;32m    202\u001b[0m     \u001b[0mcause\u001b[0m \u001b[0;34m=\u001b[0m \u001b[0mexc_value\u001b[0m \u001b[0;32mif\u001b[0m \u001b[0mexc_value\u001b[0m \u001b[0;32mis\u001b[0m \u001b[0;32mnot\u001b[0m \u001b[0mexception\u001b[0m \u001b[0;32melse\u001b[0m \u001b[0;32mNone\u001b[0m\u001b[0;34m\u001b[0m\u001b[0m\n\u001b[0;32m--> 203\u001b[0;31m     \u001b[0mreraise\u001b[0m\u001b[0;34m(\u001b[0m\u001b[0mtype\u001b[0m\u001b[0;34m(\u001b[0m\u001b[0mexception\u001b[0m\u001b[0;34m)\u001b[0m\u001b[0;34m,\u001b[0m \u001b[0mexception\u001b[0m\u001b[0;34m,\u001b[0m \u001b[0mtb\u001b[0m\u001b[0;34m=\u001b[0m\u001b[0mexc_tb\u001b[0m\u001b[0;34m,\u001b[0m \u001b[0mcause\u001b[0m\u001b[0;34m=\u001b[0m\u001b[0mcause\u001b[0m\u001b[0;34m)\u001b[0m\u001b[0;34m\u001b[0m\u001b[0m\n\u001b[0m\u001b[1;32m    204\u001b[0m \u001b[0;34m\u001b[0m\u001b[0m\n\u001b[1;32m    205\u001b[0m \u001b[0;32mif\u001b[0m \u001b[0mpy3k\u001b[0m\u001b[0;34m:\u001b[0m\u001b[0;34m\u001b[0m\u001b[0m\n",
      "\u001b[0;32m~/venv3/lib/python3.6/site-packages/sqlalchemy/util/compat.py\u001b[0m in \u001b[0;36mreraise\u001b[0;34m(tp, value, tb, cause)\u001b[0m\n\u001b[1;32m    184\u001b[0m             \u001b[0mvalue\u001b[0m\u001b[0;34m.\u001b[0m\u001b[0m__cause__\u001b[0m \u001b[0;34m=\u001b[0m \u001b[0mcause\u001b[0m\u001b[0;34m\u001b[0m\u001b[0m\n\u001b[1;32m    185\u001b[0m         \u001b[0;32mif\u001b[0m \u001b[0mvalue\u001b[0m\u001b[0;34m.\u001b[0m\u001b[0m__traceback__\u001b[0m \u001b[0;32mis\u001b[0m \u001b[0;32mnot\u001b[0m \u001b[0mtb\u001b[0m\u001b[0;34m:\u001b[0m\u001b[0;34m\u001b[0m\u001b[0m\n\u001b[0;32m--> 186\u001b[0;31m             \u001b[0;32mraise\u001b[0m \u001b[0mvalue\u001b[0m\u001b[0;34m.\u001b[0m\u001b[0mwith_traceback\u001b[0m\u001b[0;34m(\u001b[0m\u001b[0mtb\u001b[0m\u001b[0;34m)\u001b[0m\u001b[0;34m\u001b[0m\u001b[0m\n\u001b[0m\u001b[1;32m    187\u001b[0m         \u001b[0;32mraise\u001b[0m \u001b[0mvalue\u001b[0m\u001b[0;34m\u001b[0m\u001b[0m\n\u001b[1;32m    188\u001b[0m \u001b[0;34m\u001b[0m\u001b[0m\n",
      "\u001b[0;32m~/venv3/lib/python3.6/site-packages/sqlalchemy/engine/base.py\u001b[0m in \u001b[0;36m_execute_context\u001b[0;34m(self, dialect, constructor, statement, parameters, *args)\u001b[0m\n\u001b[1;32m   1191\u001b[0m                         \u001b[0mstatement\u001b[0m\u001b[0;34m,\u001b[0m\u001b[0;34m\u001b[0m\u001b[0m\n\u001b[1;32m   1192\u001b[0m                         \u001b[0mparameters\u001b[0m\u001b[0;34m,\u001b[0m\u001b[0;34m\u001b[0m\u001b[0m\n\u001b[0;32m-> 1193\u001b[0;31m                         context)\n\u001b[0m\u001b[1;32m   1194\u001b[0m         \u001b[0;32mexcept\u001b[0m \u001b[0mBaseException\u001b[0m \u001b[0;32mas\u001b[0m \u001b[0me\u001b[0m\u001b[0;34m:\u001b[0m\u001b[0;34m\u001b[0m\u001b[0m\n\u001b[1;32m   1195\u001b[0m             self._handle_dbapi_exception(\n",
      "\u001b[0;32m~/venv3/lib/python3.6/site-packages/sqlalchemy/engine/default.py\u001b[0m in \u001b[0;36mdo_execute\u001b[0;34m(self, cursor, statement, parameters, context)\u001b[0m\n\u001b[1;32m    505\u001b[0m \u001b[0;34m\u001b[0m\u001b[0m\n\u001b[1;32m    506\u001b[0m     \u001b[0;32mdef\u001b[0m \u001b[0mdo_execute\u001b[0m\u001b[0;34m(\u001b[0m\u001b[0mself\u001b[0m\u001b[0;34m,\u001b[0m \u001b[0mcursor\u001b[0m\u001b[0;34m,\u001b[0m \u001b[0mstatement\u001b[0m\u001b[0;34m,\u001b[0m \u001b[0mparameters\u001b[0m\u001b[0;34m,\u001b[0m \u001b[0mcontext\u001b[0m\u001b[0;34m=\u001b[0m\u001b[0;32mNone\u001b[0m\u001b[0;34m)\u001b[0m\u001b[0;34m:\u001b[0m\u001b[0;34m\u001b[0m\u001b[0m\n\u001b[0;32m--> 507\u001b[0;31m         \u001b[0mcursor\u001b[0m\u001b[0;34m.\u001b[0m\u001b[0mexecute\u001b[0m\u001b[0;34m(\u001b[0m\u001b[0mstatement\u001b[0m\u001b[0;34m,\u001b[0m \u001b[0mparameters\u001b[0m\u001b[0;34m)\u001b[0m\u001b[0;34m\u001b[0m\u001b[0m\n\u001b[0m\u001b[1;32m    508\u001b[0m \u001b[0;34m\u001b[0m\u001b[0m\n\u001b[1;32m    509\u001b[0m     \u001b[0;32mdef\u001b[0m \u001b[0mdo_execute_no_params\u001b[0m\u001b[0;34m(\u001b[0m\u001b[0mself\u001b[0m\u001b[0;34m,\u001b[0m \u001b[0mcursor\u001b[0m\u001b[0;34m,\u001b[0m \u001b[0mstatement\u001b[0m\u001b[0;34m,\u001b[0m \u001b[0mcontext\u001b[0m\u001b[0;34m=\u001b[0m\u001b[0;32mNone\u001b[0m\u001b[0;34m)\u001b[0m\u001b[0;34m:\u001b[0m\u001b[0;34m\u001b[0m\u001b[0m\n",
      "\u001b[0;31mProgrammingError\u001b[0m: (psycopg2.ProgrammingError) syntax error at or near \")\"\nLINE 1: SELECT borough, max(expirationdate)) FROM nyc WHERE permitty...\n                                           ^\n [SQL: \"SELECT borough, max(expirationdate)) FROM nyc WHERE permittype = 'NB' GROUP BY CONCAT(borough, zipcode, house, streetname) ORDER BY COUNT(*) DESC;\"] (Background on this error at: http://sqlalche.me/e/f405)"
     ],
     "output_type": "error"
    }
   ],
   "source": [
    "res = connection.execute('SELECT borough, sum(distinct(CONCAT(borough, zipcode, house, streetname)))) '\n",
    "                         'FROM nyc WHERE permittype = \\'NB\\' '\n",
    "                         'GROUP BY CONCAT(borough, zipcode, house, streetname) '\n",
    "                         'ORDER BY COUNT(*) DESC;')\n",
    "\n",
    "df = DataFrame(res.fetchall())\n",
    "df.columns = res.keys()"
   ]
  },
  {
   "cell_type": "code",
   "execution_count": 190,
   "metadata": {},
   "outputs": [
    {
     "data": {
      "text/plain": [
       "<matplotlib.axes._subplots.AxesSubplot at 0x112637748>"
      ]
     },
     "execution_count": 190,
     "metadata": {},
     "output_type": "execute_result"
    },
    {
     "data": {
      "image/png": "[encoded data removed]",
      "text/plain": [
       "<Figure size 432x288 with 1 Axes>"
      ]
     },
     "metadata": {},
     "output_type": "display_data"
    }
   ],
   "source": [
    "df.plot(kind = 'bar', x = 'borough')"
   ]
  },
  {
   "cell_type": "code",
   "execution_count": 196,
   "metadata": {},
   "outputs": [],
   "source": [
    "res = connection.execute('SELECT SUBSTRING(expirationdate, 1, 4), COUNT(expirationdate) FROM nyc '\n",
    "                         'GROUP BY SUBSTRING(expirationdate, 1, 4) ORDER BY SUBSTRING(expirationdate, 1, 4);')\n",
    "df = DataFrame(res.fetchall())\n",
    "df.columns = res.keys()"
   ]
  },
  {
   "cell_type": "code",
   "execution_count": 197,
   "metadata": {},
   "outputs": [
    {
     "name": "stdout",
     "output_type": "stream",
     "text": [
      "   substring   count\n0       1900       1\n1       1908       1\n2       1987       1\n3       1989     478\n4       1990    9291\n5       1991   33863\n6       1992   49171\n7       1993   52756\n8       1994   50227\n9       1995   51446\n10      1996   73658\n11      1997   73141\n12      1998   76447\n13      1999   87266\n14      2000   94497\n15      2001  102958\n16      2002  110034\n17      2003  115022\n18      2004  129837\n19      2005  140753\n20      2006  153714\n21      2007  158476\n22      2008  136654\n23      2009  147219\n24      2010  134056\n25      2011  141202\n26      2012  148727\n27      2013  148481\n28      2014  160490\n29      2015  175921\n30      2016  185775\n31      2017  193098\n32      2018  192695\n33      2019  147942\n34      2020   21547\n35      2027       1\n36      2030       4\n37      2033       2\n38      2097       1\n39      2200       1\n40      2202       5\n41      2204       1\n42      2209       1\n43      None       0\n"
     ]
    },
    {
     "data": {
      "text/plain": [
       "<matplotlib.axes._subplots.AxesSubplot at 0x1127af4e0>"
      ]
     },
     "execution_count": 197,
     "metadata": {},
     "output_type": "execute_result"
    },
    {
     "data": {
      "image/png": "[encoded data removed]",
      "text/plain": [
       "<Figure size 432x288 with 1 Axes>"
      ]
     },
     "metadata": {},
     "output_type": "display_data"
    }
   ],
   "source": [
    "print(df)\n",
    "df.plot(kind = 'bar', x = 'substring')"
   ]
  },
  {
   "cell_type": "code",
   "execution_count": null,
   "metadata": {},
   "outputs": [],
   "source": [
    ""
   ]
  }
 ],
 "metadata": {
  "kernelspec": {
   "display_name": "Python 2",
   "language": "python",
   "name": "python2"
  },
  "language_info": {
   "codemirror_mode": {
    "name": "ipython",
    "version": 2.0
   },
   "file_extension": ".py",
   "mimetype": "text/x-python",
   "name": "python",
   "nbconvert_exporter": "python",
   "pygments_lexer": "ipython2",
   "version": "2.7.6"
  }
 },
 "nbformat": 4,
 "nbformat_minor": 0
}